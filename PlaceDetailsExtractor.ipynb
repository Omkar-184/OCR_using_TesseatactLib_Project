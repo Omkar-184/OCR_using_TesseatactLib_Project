{
  "nbformat": 4,
  "nbformat_minor": 0,
  "metadata": {
    "colab": {
      "name": "PlaceDetailsExtractor.ipynb",
      "version": "0.3.2",
      "provenance": [],
      "collapsed_sections": [],
      "include_colab_link": true
    },
    "kernelspec": {
      "name": "python3",
      "display_name": "Python 3"
    }
  },
  "cells": [
    {
      "cell_type": "markdown",
      "metadata": {
        "id": "view-in-github",
        "colab_type": "text"
      },
      "source": [
        "<a href=\"https://colab.research.google.com/github/bhadreshpsavani/coursera/blob/master/PlaceDetailsExtractor.ipynb\" target=\"_parent\"><img src=\"https://colab.research.google.com/assets/colab-badge.svg\" alt=\"Open In Colab\"/></a>"
      ]
    },
    {
      "metadata": {
        "id": "XNTG7DxsjNxs",
        "colab_type": "code",
        "colab": {}
      },
      "cell_type": "code",
      "source": [
        "import requests\n",
        "\n",
        "url = 'https://maps.googleapis.com/maps/api/place/nearbysearch/json?location=18.5928833,73.7483962&radius=3000&type=High%20School&keyword=education&key=APIKEY'"
      ],
      "execution_count": 0,
      "outputs": []
    },
    {
      "metadata": {
        "id": "PsQfeDfLpRmH",
        "colab_type": "code",
        "colab": {}
      },
      "cell_type": "code",
      "source": [
        "resp = requests.get(url=url)\n",
        "data = resp.json()"
      ],
      "execution_count": 0,
      "outputs": []
    },
    {
      "metadata": {
        "id": "6_nf-0LYpeMQ",
        "colab_type": "code",
        "outputId": "2ff4d8d4-a277-4204-9bb0-8f9fac7f0c7b",
        "colab": {
          "base_uri": "https://localhost:8080/",
          "height": 54
        }
      },
      "cell_type": "code",
      "source": [
        "print(data)"
      ],
      "execution_count": 0,
      "outputs": [
        {
          "output_type": "stream",
          "text": [
            "{'html_attributions': [], 'next_page_token': 'CrQCLQEAAL4WnYD8Tkv02-3JZC4WfPEC4TRe9rUwQ3YrSiTjrkMXiu6hdvo02TMGG9J1CHTlnG_4UuYY7GZAfXnzXwXkzWjbM4zlY4nyhyTscKYPzCRGZ6E85qCxwB28RemZ8tQbTC7Kv-LfuTecYJNgPPpReaJr2KdT_fSoP8-rf17UIhob_m2bqbw5DAlE5vN-p-6YONVbPr1GRXuvHxYxdB73eSAShenUeS4oWzOJeI1MK4i1fUyzu7rTEFIfpKU5W2OWrPgGFBGKcebJDL13RqQZKodXsEtzfHrBdiZMzRhpsC_Pf3W5H5t8bAO95APxdsIub9aozkeCEAjwu2ctj55rarfmabZg_1ENQ0MZkQbjh83xR7eO0oEoO9pQE-EuTSozV-SB1sUBBL5v4lraqOFgeIoSEGAObBaPskal1O2Fd1n8HbMaFCqYuSX3sy4xVNVQB4GUR3XPt1eg', 'results': [{'geometry': {'location': {'lat': 18.603924, 'lng': 73.754612}, 'viewport': {'northeast': {'lat': 18.60532162989272, 'lng': 73.75596042989272}, 'southwest': {'lat': 18.60262197010728, 'lng': 73.75326077010727}}}, 'icon': 'https://maps.gstatic.com/mapfiles/place_api/icons/school-71.png', 'id': 'c1fdcb484053b19153042d8fe465c820c94d8ccd', 'name': 'Swami Vivekanand College of Education(SVCE)', 'place_id': 'ChIJj18bcXu5wjsRnFmZKU8wAAA', 'plus_code': {'compound_code': 'JQ33+HR Pimpri-Chinchwad, Maharashtra, India', 'global_code': '7JCMJQ33+HR'}, 'rating': 2.5, 'reference': 'ChIJj18bcXu5wjsRnFmZKU8wAAA', 'scope': 'GOOGLE', 'types': ['point_of_interest', 'establishment'], 'user_ratings_total': 2, 'vicinity': 'Survey No. 130, Mumbai - Bangalore Highway,, Opposite old Wakad Police, Chowkey, Wakad, Pune'}, {'geometry': {'location': {'lat': 18.614744, 'lng': 73.765343}, 'viewport': {'northeast': {'lat': 18.61616447989272, 'lng': 73.76678622989272}, 'southwest': {'lat': 18.61346482010727, 'lng': 73.76408657010727}}}, 'icon': 'https://maps.gstatic.com/mapfiles/place_api/icons/school-71.png', 'id': '323927d0c3aea9c0eee838cf01dd7c26c5de4358', 'name': 'Innovative and Creative Education Solutions', 'opening_hours': {'open_now': True}, 'photos': [{'height': 1000, 'html_attributions': ['<a href=\"https://maps.google.com/maps/contrib/100216099755509277559/photos\">Innovative and Creative Education Solutions</a>'], 'photo_reference': 'CmRaAAAAapEItvBq9Lcg0XiYUbg7JqvUPV9h5FohHMxU5W8TfXa1U_MnV-HIan-ovrT8P5G4WVjJzZeghAVRn38UCUICV-PHotgQB9pnMCidY619BwPqxr3mZc4nlkdNhuMLX3UaEhDYida613gc-Vpm3FoyrQAaGhRdO2kai0PxMtbXxv57hR5dtHcS6w', 'width': 1000}], 'place_id': 'ChIJa_vJ4p25wjsRO28UioOdh8c', 'plus_code': {'compound_code': 'JQ78+V4 Pimpri-Chinchwad, Maharashtra, India', 'global_code': '7JCMJQ78+V4'}, 'rating': 0, 'reference': 'ChIJa_vJ4p25wjsRO28UioOdh8c', 'scope': 'GOOGLE', 'types': ['point_of_interest', 'establishment'], 'user_ratings_total': 0, 'vicinity': '2nd, 3rd Floor Mahalaxmi Plaza, Near PMC Bank, Above Deep Jewellers, Dange Chowk, Pune'}, {'geometry': {'location': {'lat': 18.6177256, 'lng': 73.74959729999999}, 'viewport': {'northeast': {'lat': 18.61910037989272, 'lng': 73.75076062989272}, 'southwest': {'lat': 18.61640072010728, 'lng': 73.74806097010728}}}, 'icon': 'https://maps.gstatic.com/mapfiles/place_api/icons/school-71.png', 'id': '1396fe87d51af467648c3be9507d9737be3ba559', 'name': 'Rajarshi Shahu College of Education', 'opening_hours': {'open_now': True}, 'place_id': 'ChIJu5a2yIC5wjsRHl6GSnv4DGM', 'plus_code': {'compound_code': 'JP9X+3R Pimpri-Chinchwad, Maharashtra, India', 'global_code': '7JCMJP9X+3R'}, 'rating': 3, 'reference': 'ChIJu5a2yIC5wjsRHl6GSnv4DGM', 'scope': 'GOOGLE', 'types': ['university', 'point_of_interest', 'establishment'], 'user_ratings_total': 1, 'vicinity': 'sr. No. 82/2 Pune-Mumbai Bypass Highway, Tathawade, Dattwadi'}, {'geometry': {'location': {'lat': 18.6187304, 'lng': 73.7536695}, 'viewport': {'northeast': {'lat': 18.62019507989272, 'lng': 73.75456577989272}, 'southwest': {'lat': 18.61749542010728, 'lng': 73.75186612010728}}}, 'icon': 'https://maps.gstatic.com/mapfiles/place_api/icons/school-71.png', 'id': '473d9a0625e7e7338c2e8924689e07eccecec9ec', 'name': 'Yashaswi Education Society', 'place_id': 'ChIJq6qqqoa5wjsRVhfW6flhNoA', 'rating': 4.7, 'reference': 'ChIJq6qqqoa5wjsRVhfW6flhNoA', 'scope': 'GOOGLE', 'types': ['university', 'point_of_interest', 'establishment'], 'user_ratings_total': 3, 'vicinity': 'S.No. 169/1/A, Opposite Elpro International, Chinchwad, Pune'}, {'geometry': {'location': {'lat': 18.6044968, 'lng': 73.75121539999999}, 'viewport': {'northeast': {'lat': 18.60585212989272, 'lng': 73.75255962989272}, 'southwest': {'lat': 18.60315247010728, 'lng': 73.74985997010728}}}, 'icon': 'https://maps.gstatic.com/mapfiles/place_api/icons/school-71.png', 'id': '50c41297e28280b8964efa957b6912e08102bfd1', 'name': 'Innovative and Creative Education Solutions', 'place_id': 'ChIJM-AzUXy5wjsRmFZIADluHTg', 'plus_code': {'compound_code': 'JQ32+QF Pimpri-Chinchwad, Maharashtra, India', 'global_code': '7JCMJQ32+QF'}, 'rating': 0, 'reference': 'ChIJM-AzUXy5wjsRmFZIADluHTg', 'scope': 'GOOGLE', 'types': ['point_of_interest', 'establishment'], 'user_ratings_total': 0, 'vicinity': 'Gr, 2nd & 3rd floor, Mahalaxmi Plaza, Near PMC Bank, Dange chowk, Apex Sonography & Deep Jewellers, Pimpri-Chinchwad'}, {'geometry': {'location': {'lat': 18.566968, 'lng': 73.773714}, 'viewport': {'northeast': {'lat': 18.56776109999999, 'lng': 73.77472972989271}, 'southwest': {'lat': 18.5645887, 'lng': 73.77203007010726}}}, 'icon': 'https://maps.gstatic.com/mapfiles/place_api/icons/school-71.png', 'id': '1a64a421a55e13f8d0749c2d0bfbf2312dad97ce', 'name': 'Shaishav Childcare & Education', 'opening_hours': {'open_now': True}, 'photos': [{'height': 600, 'html_attributions': ['<a href=\"https://maps.google.com/maps/contrib/109646402746240854576/photos\">Shaishav Childcare &amp; Education</a>'], 'photo_reference': 'CmRaAAAAupbjlFZI_-TR79qJnPjFakzm6QPWP00cM-9q_gmBEw7JqfBDqspTIDQloTs6yG69cJVflnMVJHNQWuIduIXtPOsNeD4eOECLO83k0qYRGYO9s57BkS8_iudxnHRI36PXEhAznbpEKhaaKWQSaQi--IaRGhQYNqhgsZBOtHn9RV2jk90_cDkz2g', 'width': 800}], 'place_id': 'ChIJdeT15sq-wjsRn83nqbxu4rM', 'plus_code': {'compound_code': 'HQ8F+QF Pune, Maharashtra, India', 'global_code': '7JCMHQ8F+QF'}, 'rating': 3, 'reference': 'ChIJdeT15sq-wjsRn83nqbxu4rM', 'scope': 'GOOGLE', 'types': ['point_of_interest', 'school', 'establishment'], 'user_ratings_total': 2, 'vicinity': 'Bungalow no 3C, Ashtagandh phase III,, Baner Rd, Baner, Pune'}, {'geometry': {'location': {'lat': 18.6149511, 'lng': 73.76520239999999}, 'viewport': {'northeast': {'lat': 18.61634997989272, 'lng': 73.76649727989272}, 'southwest': {'lat': 18.61365032010728, 'lng': 73.76379762010727}}}, 'icon': 'https://maps.gstatic.com/mapfiles/place_api/icons/school-71.png', 'id': 'abfb68cf8016b082a44252415af791645612fa5c', 'name': 'Winner Institute Of Competitive Exams', 'opening_hours': {'open_now': True}, 'place_id': 'ChIJJ8xQhKW5wjsRnqT0LTXY9jE', 'plus_code': {'compound_code': 'JQ78+X3 Pimpri-Chinchwad, Maharashtra, India', 'global_code': '7JCMJQ78+X3'}, 'rating': 5, 'reference': 'ChIJJ8xQhKW5wjsRnqT0LTXY9jE', 'scope': 'GOOGLE', 'types': ['point_of_interest', 'establishment'], 'user_ratings_total': 63, 'vicinity': 'Arun Plaza 3rd Floor Nr Sai Jyoti Hospital Dange Chowk, 33, Kalewadi Rd, Pimpri-Chinchwad'}, {'geometry': {'location': {'lat': 18.5742269, 'lng': 73.7680799}, 'viewport': {'northeast': {'lat': 18.57557722989272, 'lng': 73.76947377989272}, 'southwest': {'lat': 18.57287757010728, 'lng': 73.76677412010729}}}, 'icon': 'https://maps.gstatic.com/mapfiles/place_api/icons/school-71.png', 'id': '43209b8a779ea7dcb662e90b410793e94c77b262', 'name': 'Zen Education', 'opening_hours': {'open_now': True}, 'place_id': 'ChIJmeZqEzS5wjsRbfBK-S_R7m4', 'plus_code': {'compound_code': 'HQF9+M6 Pune, Maharashtra, India', 'global_code': '7JCMHQF9+M6'}, 'rating': 0, 'reference': 'ChIJmeZqEzS5wjsRbfBK-S_R7m4', 'scope': 'GOOGLE', 'types': ['point_of_interest', 'establishment'], 'user_ratings_total': 0, 'vicinity': 'B-201, The Gateway, Moze College Road, Balewadi, Pune'}, {'geometry': {'location': {'lat': 18.579073, 'lng': 73.7363725}, 'viewport': {'northeast': {'lat': 18.58044117989272, 'lng': 73.73774822989273}, 'southwest': {'lat': 18.57774152010727, 'lng': 73.73504857010728}}}, 'icon': 'https://maps.gstatic.com/mapfiles/place_api/icons/school-71.png', 'id': '6ef0db628d9a79f6a0bf92b1a99859aaa3509f9a', 'name': 'Pro Classes', 'opening_hours': {'open_now': True}, 'photos': [{'height': 673, 'html_attributions': ['<a href=\"https://maps.google.com/maps/contrib/108280661023381634699/photos\">Pro Classes</a>'], 'photo_reference': 'CmRaAAAAQnkbVNd8j7-FoZJX3g8J29_P7qAxpQ3NQVFFHvSSiZMiVZlyGR-agVKQvbnyXkNc0-i4k2B_pBDlJYH1XPhToUVKkEBXZAJF2pegjVDy0mOyVbbR9qdpSbthKiYYcEY7EhD3Hx4JZKN_rjpfZsxq0knmGhSdZZ3CbGZ2S3DIC4loBsF6wX4WSg', 'width': 672}], 'place_id': 'ChIJ4eebXuW7wjsR4rRCoaxbATs', 'plus_code': {'compound_code': 'HPHP+JG Pimpri-Chinchwad, Maharashtra, India', 'global_code': '7JCMHPHP+JG'}, 'rating': 0, 'reference': 'ChIJ4eebXuW7wjsR4rRCoaxbATs', 'scope': 'GOOGLE', 'types': ['point_of_interest', 'establishment'], 'user_ratings_total': 0, 'vicinity': 'Tower B2,, Blue Ridge Approach Road, Blue Ridge - Paranjpe Schemes, Phase 1, Hinjewadi Rajiv Gandhi Infotech Park, Hinjawadi, Pimpri-Chinchwad'}, {'geometry': {'location': {'lat': 18.5902163, 'lng': 73.7482036}, 'viewport': {'northeast': {'lat': 18.59152247989272, 'lng': 73.74954282989272}, 'southwest': {'lat': 18.58882282010728, 'lng': 73.74684317010727}}}, 'icon': 'https://maps.gstatic.com/mapfiles/place_api/icons/school-71.png', 'id': '76cace05ae088b9c69895e464d55430e57dae71c', 'name': 'Imperial Overseas Education Consultants', 'opening_hours': {'open_now': False}, 'photos': [{'height': 4608, 'html_attributions': ['<a href=\"https://maps.google.com/maps/contrib/111464890354068931368/photos\">Akshay</a>'], 'photo_reference': 'CmRaAAAAir-T6D9dvgop3fq6DGi8_MAz9lJL2KXpBw5ZWmf2ylVuSH7NTIxTijwKZ7AUszoeEHhiXAiUEbVsSnSfJHuUtquaZvol7WFZ3KygiQD_Y8gL1w6SjNmjCUAvIgO6u9ybEhCk8NgBzb6-y-RlCC1Jrcr_GhTZH64lRgaOJ6NHkcIIJLnX1kfX3Q', 'width': 2592}], 'place_id': 'ChIJMVlFG2C5wjsRS5kwT7zpv68', 'plus_code': {'compound_code': 'HPRX+37 Pimpri-Chinchwad, Maharashtra, India', 'global_code': '7JCMHPRX+37'}, 'rating': 4.2, 'reference': 'ChIJMVlFG2C5wjsRS5kwT7zpv68', 'scope': 'GOOGLE', 'types': ['point_of_interest', 'establishment'], 'user_ratings_total': 6, 'vicinity': '6th floor Suratwala Mark Plaza, Hinjawadi Village, Hinjawadi, Pune'}, {'geometry': {'location': {'lat': 18.612185, 'lng': 73.765759}, 'viewport': {'northeast': {'lat': 18.61352982989272, 'lng': 73.76713512989272}, 'southwest': {'lat': 18.61083017010728, 'lng': 73.76443547010727}}}, 'icon': 'https://maps.gstatic.com/mapfiles/place_api/icons/school-71.png', 'id': '71d4d6b0a77c67886b2d3383f758c8288a4c095d', 'name': 'Divya education institute', 'opening_hours': {'open_now': True}, 'photos': [{'height': 1000, 'html_attributions': ['<a href=\"https://maps.google.com/maps/contrib/117203246265574340160/photos\">Divya education institute</a>'], 'photo_reference': 'CmRaAAAAk3eyLATZ7BWZztm5vL3gq9DG6AN7asGZTxMFJdNu7HKIGQ27Hy5jfC0g442XxHBz3MJB6lVI-Sb57JYj4gWK7TnW0yvJFCMPWTmsYJuzH2gHe_-H54AnJ6dkMdqOcUgcEhCKmgKVysGdYKfz8pUgKTdeGhREBJyAVWeK05_B9Li9r4MuSjsYJQ', 'width': 1000}], 'place_id': 'ChIJg8pa2XW5wjsRL2uOizaKQ1Y', 'plus_code': {'compound_code': 'JQ68+V8 Pimpri-Chinchwad, Maharashtra, India', 'global_code': '7JCMJQ68+V8'}, 'rating': 0, 'reference': 'ChIJg8pa2XW5wjsRL2uOizaKQ1Y', 'scope': 'GOOGLE', 'types': ['point_of_interest', 'establishment'], 'user_ratings_total': 0, 'vicinity': 'Near dr. Damale hospital, dange chowk wakadroad, thergaon,&nbsp; pune 33, pune'}, {'geometry': {'location': {'lat': 18.5646473, 'lng': 73.7750441}, 'viewport': {'northeast': {'lat': 18.56601407989272, 'lng': 73.77639997989272}, 'southwest': {'lat': 18.56331442010728, 'lng': 73.77370032010727}}}, 'icon': 'https://maps.gstatic.com/mapfiles/place_api/icons/school-71.png', 'id': 'a97ccfe4814f4de6b822e20f535a8bccee5bce2a', 'name': 'Bizsol Education', 'place_id': 'ChIJi4bNucu-wjsRoScmdbzJYu0', 'plus_code': {'compound_code': 'HQ7G+V2 Pune, Maharashtra, India', 'global_code': '7JCMHQ7G+V2'}, 'rating': 0, 'reference': 'ChIJi4bNucu-wjsRoScmdbzJYu0', 'scope': 'GOOGLE', 'types': ['point_of_interest', 'establishment'], 'user_ratings_total': 0, 'vicinity': '14-17 Suyash Commercial Mall, S No 74 & 75, Off Baner Road, Baner, Pune'}, {'geometry': {'location': {'lat': 18.6067246, 'lng': 73.7719015}, 'viewport': {'northeast': {'lat': 18.60807302989272, 'lng': 73.77325607989273}, 'southwest': {'lat': 18.60537337010728, 'lng': 73.77055642010728}}}, 'icon': 'https://maps.gstatic.com/mapfiles/place_api/icons/school-71.png', 'id': 'c34e1e698cfc6504908c56e27ba58696855ec023', 'name': 'Abha Education & Charitable Trusts VYAS ACADEMY Education Services And Coaching Centre', 'opening_hours': {'open_now': True}, 'photos': [{'height': 3000, 'html_attributions': ['<a href=\"https://maps.google.com/maps/contrib/112421655515629685552/photos\">A Google User</a>'], 'photo_reference': 'CmRaAAAAjuetp92zUbgdLwd4NFyzbrilJifAzwVo1OgIvi1kg2EzT9PdSdqW378_Qf4hCDqusZBKZNZMTyHj-ICK96RwMZ2yqu72SipAK_1LgvN8_eORYupngSpvrCsMyyvQ4dq4EhDXw30X7kXSEvdu2Tu1idY2GhR2Xj23sB3j1WVBBxItqI4pwPl2gw', 'width': 4000}], 'place_id': 'ChIJJ9EIdR-5wjsRJOO9x6YSQHY', 'plus_code': {'compound_code': 'JQ4C+MQ Pimpri-Chinchwad, Maharashtra, India', 'global_code': '7JCMJQ4C+MQ'}, 'rating': 5, 'reference': 'ChIJJ9EIdR-5wjsRJOO9x6YSQHY', 'scope': 'GOOGLE', 'types': ['point_of_interest', 'establishment'], 'user_ratings_total': 7, 'vicinity': 'Belthika Nagar, Wakad, Pimpri-Chinchwad'}, {'geometry': {'location': {'lat': 18.596301, 'lng': 73.764043}, 'viewport': {'northeast': {'lat': 18.59767022989272, 'lng': 73.76524847989273}, 'southwest': {'lat': 18.59497057010728, 'lng': 73.76254882010728}}}, 'icon': 'https://maps.gstatic.com/mapfiles/place_api/icons/school-71.png', 'id': 'a1aadcd12c4c7cdba0d08dc7e0ed7c32c733e069', 'name': 'Mechatron Robotics (Robotics for Kids & School Students in Wakad, Pune)', 'opening_hours': {'open_now': False}, 'photos': [{'height': 576, 'html_attributions': ['<a href=\"https://maps.google.com/maps/contrib/118017486446564783044/photos\">A Google User</a>'], 'photo_reference': 'CmRaAAAACRszXBh8GyhkxGyRwPxeM7_7tRcNYoClDmdsdZh3uPCdrOuoEX7ElZ1hYesiyMk9kwu0u4gau_q_MTJDvKONJ47mjs98nK34LS_LZgPsmgctsbtUk-hG_LKjzKxa-U8cEhDOXzpOQx3vbUh8GSw7SO2hGhRtynKoF42v_tsJas2llXXATX3xQA', 'width': 1024}], 'place_id': 'ChIJn-IWSmm5wjsR93uBG6gvHvk', 'plus_code': {'compound_code': 'HQW7+GJ Pimpri-Chinchwad, Maharashtra, India', 'global_code': '7JCMHQW7+GJ'}, 'rating': 5, 'reference': 'ChIJn-IWSmm5wjsR93uBG6gvHvk', 'scope': 'GOOGLE', 'types': ['store', 'point_of_interest', 'school', 'establishment'], 'user_ratings_total': 22, 'vicinity': 'Dutta Mandir, C/O Snehalay, Shop No 11, 3rd Floor, Arambh Complex Beside, Datta Mandir Rd, Wakad, Pune'}, {'geometry': {'location': {'lat': 18.5980251, 'lng': 73.7586678}, 'viewport': {'northeast': {'lat': 18.59935407989272, 'lng': 73.75993452989272}, 'southwest': {'lat': 18.59665442010728, 'lng': 73.75723487010728}}}, 'icon': 'https://maps.gstatic.com/mapfiles/place_api/icons/school-71.png', 'id': '1ea8f9deef7b824193bf709108eddc15aef538d5', 'name': 'i18n Academy', 'opening_hours': {'open_now': True}, 'place_id': 'ChIJT2KikWW5wjsREL7mXyhebcc', 'plus_code': {'compound_code': 'HQX5+6F Pimpri-Chinchwad, Maharashtra, India', 'global_code': '7JCMHQX5+6F'}, 'rating': 5, 'reference': 'ChIJT2KikWW5wjsREL7mXyhebcc', 'scope': 'GOOGLE', 'types': ['point_of_interest', 'establishment'], 'user_ratings_total': 1, 'vicinity': 'Pristine Square Suite # 406, Shankar Kalat Nagar, Wakad, Pune'}, {'geometry': {'location': {'lat': 18.6123299, 'lng': 73.7660398}, 'viewport': {'northeast': {'lat': 18.61370317989272, 'lng': 73.76726622989273}, 'southwest': {'lat': 18.61100352010728, 'lng': 73.76456657010728}}}, 'icon': 'https://maps.gstatic.com/mapfiles/place_api/icons/school-71.png', 'id': 'b57b660293cc6fb492913c3c4cf8f14660316167', 'name': 'eMS Share Market Institute In Pimpri-Chinchwad (PCMC)', 'opening_hours': {'open_now': True}, 'place_id': 'ChIJy8TmeHW5wjsRApAgEMPG6_E', 'plus_code': {'compound_code': 'JQ68+WC Pimpri-Chinchwad, Maharashtra, India', 'global_code': '7JCMJQ68+WC'}, 'rating': 5, 'reference': 'ChIJy8TmeHW5wjsRApAgEMPG6_E', 'scope': 'GOOGLE', 'types': ['point_of_interest', 'establishment'], 'user_ratings_total': 82, 'vicinity': 'Khinvasara Trade Center(KTC),Office No 303, 3rd Floor Datta Mandir Road, Dange Chowk Pune-411033 PUNE, Pimpri-Chinchwad'}, {'geometry': {'location': {'lat': 18.574991, 'lng': 73.77587489999999}, 'viewport': {'northeast': {'lat': 18.57633772989272, 'lng': 73.77742612989273}, 'southwest': {'lat': 18.57363807010728, 'lng': 73.77472647010728}}}, 'icon': 'https://maps.gstatic.com/mapfiles/place_api/icons/school-71.png', 'id': '44596b06dbace755080c4c2bcde8852b0e579fc6', 'name': 'Cuemath Centre Nisha Vyas', 'place_id': 'ChIJkSfRY765wjsRIdElG4gRxPA', 'plus_code': {'compound_code': 'HQFG+X8 Pune, Maharashtra, India', 'global_code': '7JCMHQFG+X8'}, 'rating': 5, 'reference': 'ChIJkSfRY765wjsRIdElG4gRxPA', 'scope': 'GOOGLE', 'types': ['point_of_interest', 'establishment'], 'user_ratings_total': 3, 'vicinity': 'Balewadi Gaon, Balewadi, Pune'}, {'geometry': {'location': {'lat': 18.609581, 'lng': 73.77044099999999}, 'viewport': {'northeast': {'lat': 18.61098837989272, 'lng': 73.77181177989272}, 'southwest': {'lat': 18.60828872010728, 'lng': 73.76911212010728}}}, 'icon': 'https://maps.gstatic.com/mapfiles/place_api/icons/school-71.png', 'id': '33445d100b38eebb879e9a1909a5419ffac21934', 'name': 'NIDSFI National institute Of Design Study Fashion And Interior', 'opening_hours': {'open_now': False}, 'place_id': 'ChIJHUXU6N-5wjsRVC9OWbnVhOY', 'plus_code': {'compound_code': 'JQ5C+R5 Pimpri-Chinchwad, Maharashtra, India', 'global_code': '7JCMJQ5C+R5'}, 'rating': 5, 'reference': 'ChIJHUXU6N-5wjsRVC9OWbnVhOY', 'scope': 'GOOGLE', 'types': ['point_of_interest', 'establishment'], 'user_ratings_total': 1, 'vicinity': 'Abc Nirman Building, Flat No 105, 1st Floor, Dange Chowk Rd, Pune'}, {'geometry': {'location': {'lat': 18.6047987, 'lng': 73.77010709999999}, 'viewport': {'northeast': {'lat': 18.60618762989272, 'lng': 73.77146287989271}, 'southwest': {'lat': 18.60348797010728, 'lng': 73.76876322010727}}}, 'icon': 'https://maps.gstatic.com/mapfiles/place_api/icons/school-71.png', 'id': '9a348b46324f42009bddc0cbd223314edcb3cea5', 'name': 'Genius kids', 'place_id': 'ChIJpyG_w3K5wjsR3nSN6m6PkOQ', 'plus_code': {'compound_code': 'JQ3C+W2 Pimpri-Chinchwad, Maharashtra, India', 'global_code': '7JCMJQ3C+W2'}, 'rating': 0, 'reference': 'ChIJpyG_w3K5wjsR3nSN6m6PkOQ', 'scope': 'GOOGLE', 'types': ['point_of_interest', 'establishment'], 'user_ratings_total': 0, 'vicinity': '3rd floor Bahirat Patil Empire. Next to Pratham Society, Shankar Kalat Nagar, Wakad, Pune'}, {'geometry': {'location': {'lat': 18.577065, 'lng': 73.7767466}, 'viewport': {'northeast': {'lat': 18.57837727989272, 'lng': 73.77809822989272}, 'southwest': {'lat': 18.57567762010727, 'lng': 73.77539857010727}}}, 'icon': 'https://maps.gstatic.com/mapfiles/place_api/icons/school-71.png', 'id': '07bba3fd05231a168b3a45da8f7aba52db04e096', 'name': 'JEENEET Centre', 'photos': [{'height': 686, 'html_attributions': ['<a href=\"https://maps.google.com/maps/contrib/106596009970080968356/photos\">A Google User</a>'], 'photo_reference': 'CmRaAAAAPWWg8Hlixlnb2_U0Qr6haCgDQWzuiAt5onfiCjTrrlM28bflRI1nyVzUiuvbHIXGJMrObc9R0cqZvdIHskuHbx1f-uP5zJ2w0HBJqLsKD-KwHl22dTVDFr79qrD3gjCIEhBDjs2turgW4RwBjqEjXzxsGhTvpihxlRBjJFzjOerqzqV-OLtF3A', 'width': 686}], 'place_id': 'ChIJDcJrvxG5wjsRsCyD9YXdEdg', 'plus_code': {'compound_code': 'HQGG+RM Pune, Maharashtra, India', 'global_code': '7JCMHQGG+RM'}, 'rating': 5, 'reference': 'ChIJDcJrvxG5wjsRsCyD9YXdEdg', 'scope': 'GOOGLE', 'types': ['point_of_interest', 'establishment'], 'user_ratings_total': 1, 'vicinity': 'Plot No. 35/36, S. No. 1/7, Behind Pearl Society, Balewadi, Pune'}], 'status': 'OK'}\n"
          ],
          "name": "stdout"
        }
      ]
    },
    {
      "metadata": {
        "id": "TPbVIHZqucuf",
        "colab_type": "code",
        "colab": {}
      },
      "cell_type": "code",
      "source": [
        "import json"
      ],
      "execution_count": 0,
      "outputs": []
    },
    {
      "metadata": {
        "id": "rzPJG_3Rpfu5",
        "colab_type": "code",
        "colab": {}
      },
      "cell_type": "code",
      "source": [
        "val = json.loads(json.dumps(data))"
      ],
      "execution_count": 0,
      "outputs": []
    },
    {
      "metadata": {
        "id": "XTJLgOvsuoff",
        "colab_type": "code",
        "outputId": "9ece87ff-1c0b-4ad5-8a8b-25a8206ff29a",
        "colab": {
          "base_uri": "https://localhost:8080/",
          "height": 71
        }
      },
      "cell_type": "code",
      "source": [
        "print(val['results'][0])\n",
        "print(len(val['results']))"
      ],
      "execution_count": 0,
      "outputs": [
        {
          "output_type": "stream",
          "text": [
            "{'geometry': {'location': {'lat': 18.603924, 'lng': 73.754612}, 'viewport': {'northeast': {'lat': 18.60532162989272, 'lng': 73.75596042989272}, 'southwest': {'lat': 18.60262197010728, 'lng': 73.75326077010727}}}, 'icon': 'https://maps.gstatic.com/mapfiles/place_api/icons/school-71.png', 'id': 'c1fdcb484053b19153042d8fe465c820c94d8ccd', 'name': 'Swami Vivekanand College of Education(SVCE)', 'place_id': 'ChIJj18bcXu5wjsRnFmZKU8wAAA', 'plus_code': {'compound_code': 'JQ33+HR Pimpri-Chinchwad, Maharashtra, India', 'global_code': '7JCMJQ33+HR'}, 'rating': 2.5, 'reference': 'ChIJj18bcXu5wjsRnFmZKU8wAAA', 'scope': 'GOOGLE', 'types': ['point_of_interest', 'establishment'], 'user_ratings_total': 2, 'vicinity': 'Survey No. 130, Mumbai - Bangalore Highway,, Opposite old Wakad Police, Chowkey, Wakad, Pune'}\n",
            "20\n"
          ],
          "name": "stdout"
        }
      ]
    },
    {
      "metadata": {
        "id": "OjPFWX5bDVe5",
        "colab_type": "code",
        "outputId": "5c707942-5f29-448b-bd06-8939314252d5",
        "colab": {
          "base_uri": "https://localhost:8080/",
          "height": 71
        }
      },
      "cell_type": "code",
      "source": [
        "print(len(val['results']))\n",
        "main_dict = {}\n",
        "latitude = []\n",
        "longitude = []\n",
        "name = []\n",
        "rating = []\n",
        "types = []\n",
        "address = []\n",
        "\n",
        "for i in range(len(val['results'])-1):\n",
        "  latitude.append(str(val['results'][i]['geometry']['location']['lat']));\n",
        "  longitude.append(str(val['results'][i]['geometry']['location']['lng']));\n",
        "  name.append(val['results'][i]['name']);\n",
        "  rating.append(str(val['results'][i]['rating']));\n",
        "  types.append(val['results'][i]['types']);\n",
        "  address.append(val['results'][i]['vicinity']);\n",
        "  \n",
        "main_dict={\"latitude\":latitude, \"longitude\":longitude, \"name\":name, \"rating\":rating, \"types\":types, \"address\":address};\n",
        "print(main_dict)"
      ],
      "execution_count": 0,
      "outputs": [
        {
          "output_type": "stream",
          "text": [
            "20\n",
            "{'latitude': ['18.603924', '18.614744', '18.6177256', '18.6187304', '18.6044968', '18.566968', '18.6149511', '18.5742269', '18.579073', '18.5902163', '18.612185', '18.5646473', '18.6067246', '18.596301', '18.5980251', '18.6123299', '18.574991', '18.609581', '18.6047987'], 'longitude': ['73.754612', '73.765343', '73.74959729999999', '73.7536695', '73.75121539999999', '73.773714', '73.76520239999999', '73.7680799', '73.7363725', '73.7482036', '73.765759', '73.7750441', '73.7719015', '73.764043', '73.7586678', '73.7660398', '73.77587489999999', '73.77044099999999', '73.77010709999999'], 'name': ['Swami Vivekanand College of Education(SVCE)', 'Innovative and Creative Education Solutions', 'Rajarshi Shahu College of Education', 'Yashaswi Education Society', 'Innovative and Creative Education Solutions', 'Shaishav Childcare & Education', 'Winner Institute Of Competitive Exams', 'Zen Education', 'Pro Classes', 'Imperial Overseas Education Consultants', 'Divya education institute', 'Bizsol Education', 'Abha Education & Charitable Trusts VYAS ACADEMY Education Services And Coaching Centre', 'Mechatron Robotics (Robotics for Kids & School Students in Wakad, Pune)', 'i18n Academy', 'eMS Share Market Institute In Pimpri-Chinchwad (PCMC)', 'Cuemath Centre Nisha Vyas', 'NIDSFI National institute Of Design Study Fashion And Interior', 'Genius kids'], 'rating': ['2.5', '0', '3', '4.7', '0', '3', '5', '0', '0', '4.2', '0', '0', '5', '5', '5', '5', '5', '5', '0'], 'types': [['point_of_interest', 'establishment'], ['point_of_interest', 'establishment'], ['university', 'point_of_interest', 'establishment'], ['university', 'point_of_interest', 'establishment'], ['point_of_interest', 'establishment'], ['point_of_interest', 'school', 'establishment'], ['point_of_interest', 'establishment'], ['point_of_interest', 'establishment'], ['point_of_interest', 'establishment'], ['point_of_interest', 'establishment'], ['point_of_interest', 'establishment'], ['point_of_interest', 'establishment'], ['point_of_interest', 'establishment'], ['store', 'point_of_interest', 'school', 'establishment'], ['point_of_interest', 'establishment'], ['point_of_interest', 'establishment'], ['point_of_interest', 'establishment'], ['point_of_interest', 'establishment'], ['point_of_interest', 'establishment']], 'address': ['Survey No. 130, Mumbai - Bangalore Highway,, Opposite old Wakad Police, Chowkey, Wakad, Pune', '2nd, 3rd Floor Mahalaxmi Plaza, Near PMC Bank, Above Deep Jewellers, Dange Chowk, Pune', 'sr. No. 82/2 Pune-Mumbai Bypass Highway, Tathawade, Dattwadi', 'S.No. 169/1/A, Opposite Elpro International, Chinchwad, Pune', 'Gr, 2nd & 3rd floor, Mahalaxmi Plaza, Near PMC Bank, Dange chowk, Apex Sonography & Deep Jewellers, Pimpri-Chinchwad', 'Bungalow no 3C, Ashtagandh phase III,, Baner Rd, Baner, Pune', 'Arun Plaza 3rd Floor Nr Sai Jyoti Hospital Dange Chowk, 33, Kalewadi Rd, Pimpri-Chinchwad', 'B-201, The Gateway, Moze College Road, Balewadi, Pune', 'Tower B2,, Blue Ridge Approach Road, Blue Ridge - Paranjpe Schemes, Phase 1, Hinjewadi Rajiv Gandhi Infotech Park, Hinjawadi, Pimpri-Chinchwad', '6th floor Suratwala Mark Plaza, Hinjawadi Village, Hinjawadi, Pune', 'Near dr. Damale hospital, dange chowk wakadroad, thergaon,&nbsp; pune 33, pune', '14-17 Suyash Commercial Mall, S No 74 & 75, Off Baner Road, Baner, Pune', 'Belthika Nagar, Wakad, Pimpri-Chinchwad', 'Dutta Mandir, C/O Snehalay, Shop No 11, 3rd Floor, Arambh Complex Beside, Datta Mandir Rd, Wakad, Pune', 'Pristine Square Suite # 406, Shankar Kalat Nagar, Wakad, Pune', 'Khinvasara Trade Center(KTC),Office No 303, 3rd Floor Datta Mandir Road, Dange Chowk Pune-411033 PUNE, Pimpri-Chinchwad', 'Balewadi Gaon, Balewadi, Pune', 'Abc Nirman Building, Flat No 105, 1st Floor, Dange Chowk Rd, Pune', '3rd floor Bahirat Patil Empire. Next to Pratham Society, Shankar Kalat Nagar, Wakad, Pune']}\n"
          ],
          "name": "stdout"
        }
      ]
    },
    {
      "metadata": {
        "id": "YZ3uOKijCBG7",
        "colab_type": "code",
        "colab": {}
      },
      "cell_type": "code",
      "source": [
        "import pandas as pd"
      ],
      "execution_count": 0,
      "outputs": []
    },
    {
      "metadata": {
        "id": "Walvl9WwByh1",
        "colab_type": "code",
        "colab": {}
      },
      "cell_type": "code",
      "source": [
        "df= pd.DataFrame(main_dict)"
      ],
      "execution_count": 0,
      "outputs": []
    },
    {
      "metadata": {
        "id": "_PjGurIiB-p4",
        "colab_type": "code",
        "outputId": "dd8af94d-114c-484b-8796-65890cb9e102",
        "colab": {
          "base_uri": "https://localhost:8080/",
          "height": 1071
        }
      },
      "cell_type": "code",
      "source": [
        "print(df)"
      ],
      "execution_count": 0,
      "outputs": [
        {
          "output_type": "stream",
          "text": [
            "                                              address    latitude  \\\n",
            "0   Survey No. 130, Mumbai - Bangalore Highway,, O...   18.603924   \n",
            "1   2nd, 3rd Floor Mahalaxmi Plaza, Near PMC Bank,...   18.614744   \n",
            "2   sr. No. 82/2 Pune-Mumbai Bypass Highway, Tatha...  18.6177256   \n",
            "3   S.No. 169/1/A, Opposite Elpro International, C...  18.6187304   \n",
            "4   Gr, 2nd & 3rd floor, Mahalaxmi Plaza, Near PMC...  18.6044968   \n",
            "5   Bungalow no 3C, Ashtagandh phase III,, Baner R...   18.566968   \n",
            "6   Arun Plaza 3rd Floor Nr Sai Jyoti Hospital Dan...  18.6149511   \n",
            "7   B-201, The Gateway, Moze College Road, Balewad...  18.5742269   \n",
            "8   Tower B2,, Blue Ridge Approach Road, Blue Ridg...   18.579073   \n",
            "9   6th floor Suratwala Mark Plaza, Hinjawadi Vill...  18.5902163   \n",
            "10  Near dr. Damale hospital, dange chowk wakadroa...   18.612185   \n",
            "11  14-17 Suyash Commercial Mall, S No 74 & 75, Of...  18.5646473   \n",
            "12            Belthika Nagar, Wakad, Pimpri-Chinchwad  18.6067246   \n",
            "13  Dutta Mandir, C/O Snehalay, Shop No 11, 3rd Fl...   18.596301   \n",
            "14  Pristine Square Suite # 406, Shankar Kalat Nag...  18.5980251   \n",
            "15  Khinvasara Trade Center(KTC),Office No 303, 3r...  18.6123299   \n",
            "16                      Balewadi Gaon, Balewadi, Pune   18.574991   \n",
            "17  Abc Nirman Building, Flat No 105, 1st Floor, D...   18.609581   \n",
            "18  3rd floor Bahirat Patil Empire. Next to Pratha...  18.6047987   \n",
            "\n",
            "            longitude                                               name  \\\n",
            "0           73.754612        Swami Vivekanand College of Education(SVCE)   \n",
            "1           73.765343        Innovative and Creative Education Solutions   \n",
            "2   73.74959729999999                Rajarshi Shahu College of Education   \n",
            "3          73.7536695                         Yashaswi Education Society   \n",
            "4   73.75121539999999        Innovative and Creative Education Solutions   \n",
            "5           73.773714                     Shaishav Childcare & Education   \n",
            "6   73.76520239999999              Winner Institute Of Competitive Exams   \n",
            "7          73.7680799                                      Zen Education   \n",
            "8          73.7363725                                        Pro Classes   \n",
            "9          73.7482036            Imperial Overseas Education Consultants   \n",
            "10          73.765759                          Divya education institute   \n",
            "11         73.7750441                                   Bizsol Education   \n",
            "12         73.7719015  Abha Education & Charitable Trusts VYAS ACADEM...   \n",
            "13          73.764043  Mechatron Robotics (Robotics for Kids & School...   \n",
            "14         73.7586678                                       i18n Academy   \n",
            "15         73.7660398  eMS Share Market Institute In Pimpri-Chinchwad...   \n",
            "16  73.77587489999999                          Cuemath Centre Nisha Vyas   \n",
            "17  73.77044099999999  NIDSFI National institute Of Design Study Fash...   \n",
            "18  73.77010709999999                                        Genius kids   \n",
            "\n",
            "   rating                                              types  \n",
            "0     2.5                 [point_of_interest, establishment]  \n",
            "1       0                 [point_of_interest, establishment]  \n",
            "2       3     [university, point_of_interest, establishment]  \n",
            "3     4.7     [university, point_of_interest, establishment]  \n",
            "4       0                 [point_of_interest, establishment]  \n",
            "5       3         [point_of_interest, school, establishment]  \n",
            "6       5                 [point_of_interest, establishment]  \n",
            "7       0                 [point_of_interest, establishment]  \n",
            "8       0                 [point_of_interest, establishment]  \n",
            "9     4.2                 [point_of_interest, establishment]  \n",
            "10      0                 [point_of_interest, establishment]  \n",
            "11      0                 [point_of_interest, establishment]  \n",
            "12      5                 [point_of_interest, establishment]  \n",
            "13      5  [store, point_of_interest, school, establishment]  \n",
            "14      5                 [point_of_interest, establishment]  \n",
            "15      5                 [point_of_interest, establishment]  \n",
            "16      5                 [point_of_interest, establishment]  \n",
            "17      5                 [point_of_interest, establishment]  \n",
            "18      0                 [point_of_interest, establishment]  \n"
          ],
          "name": "stdout"
        }
      ]
    },
    {
      "metadata": {
        "id": "xOay4oDVKwd-",
        "colab_type": "code",
        "colab": {}
      },
      "cell_type": "code",
      "source": [
        ""
      ],
      "execution_count": 0,
      "outputs": []
    }
  ]
}